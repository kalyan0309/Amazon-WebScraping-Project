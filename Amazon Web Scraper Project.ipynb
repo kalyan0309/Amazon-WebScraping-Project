{
 "cells": [
  {
   "cell_type": "code",
   "execution_count": 8,
   "id": "bccf3a75",
   "metadata": {},
   "outputs": [],
   "source": [
    "#import libraries \n",
    "from bs4 import BeautifulSoup\n",
    "import requests\n",
    "import time\n",
    "import datetime\n",
    "import smtplib"
   ]
  },
  {
   "cell_type": "code",
   "execution_count": 88,
   "id": "06007962",
   "metadata": {},
   "outputs": [],
   "source": [
    "#connect to website\n",
    "URL = 'https://www.amazon.in/DUDEME-Programmer-Coding-Developer-T-Shirt/dp/B08SFHKHV3/ref=sr_1_1?crid=1XY63H3SXDWF1&keywords=data%2Banalyst%2Btshirt&qid=1672333042&sprefix=data%2Banalyst%2Btshir%2Caps%2C378&sr=8-1'\n",
    "headers = {\"User-Agent\": \"Mozilla/5.0 (Windows NT 10.0; Win64; x64) AppleWebKit/537.36 (KHTML, like Gecko) Chrome/108.0.0.0 Safari/537.36 Edg/108.0.1462.54\", \"Accept-Encoding\":\"gzip, deflate\",\"Accept\":\"text/html,application/xhtml+xml,application/xml;q=0.9,*/*;q=0.8\",\"DNT\":\"1\",\"Connection\":\"close\", \"Upgrade-Insecure-Requests\":\"1\"}\n",
    "page = requests.get(URL,headers = headers)\n",
    "soup1 = BeautifulSoup(page.content,\"html.parser\")\n",
    "soup2 = BeautifulSoup(soup1.prettify(),\"html.parser\")\n",
    "title = soup2.find(id = \"productTitle\").get_text() \n",
    "price = soup2.find(id = \"corePrice_desktop\").get_text()\n",
    "rating = soup2.find(id = \"acrPopover\").get_text()"
   ]
  },
  {
   "cell_type": "code",
   "execution_count": 94,
   "id": "2781240b",
   "metadata": {},
   "outputs": [
    {
     "name": "stdout",
     "output_type": "stream",
     "text": [
      "DUDEME Data Ner\n",
      "price = Rs. 499\n",
      "Rating = 4.6\n"
     ]
    }
   ],
   "source": [
    "title = title.strip()[:15]\n",
    "\n",
    "s = \"\"\n",
    "for i in range(len(price)):\n",
    "    if price[i].isdigit():\n",
    "        s+=price[i]\n",
    "\n",
    "price = s.strip()[:3]\n",
    "rating = rating.strip()[:3]\n",
    "\n",
    "print(title)\n",
    "print(\"price = Rs.\",price)\n",
    "print(\"Rating =\", rating)"
   ]
  },
  {
   "cell_type": "code",
   "execution_count": 78,
   "id": "637b5639",
   "metadata": {},
   "outputs": [
    {
     "name": "stdout",
     "output_type": "stream",
     "text": [
      "2022-12-30\n"
     ]
    }
   ],
   "source": [
    "import datetime\n",
    "\n",
    "date = datetime.date.today()\n",
    "print(today)"
   ]
  },
  {
   "cell_type": "code",
   "execution_count": 95,
   "id": "4bd5c2b3",
   "metadata": {},
   "outputs": [],
   "source": [
    "import csv\n",
    "\n",
    "header = ['Shirt','Price(.Rs)','Rating','Date']\n",
    "data = [title,price,rating,date]\n",
    "\n",
    "with open('AmazonWebScrapperDataset.csv','w', newline = '', encoding = 'UTF8') as f:\n",
    "    #writer = csv.writer(f)\n",
    "    #writer.writerow(header)\n",
    "    #writer.writerow(data)"
   ]
  },
  {
   "cell_type": "code",
   "execution_count": null,
   "id": "27586cc5",
   "metadata": {},
   "outputs": [],
   "source": [
    "import pandas as pd\n",
    "df = pd.read_csv(r'C:\\Users\\ADMIN\\AmazonWebScrapperDataset.csv')\n",
    "print(df)"
   ]
  },
  {
   "cell_type": "code",
   "execution_count": 109,
   "id": "5660fd86",
   "metadata": {},
   "outputs": [],
   "source": [
    "#Appending data to the csv\n",
    "with open('AmazonWebScrapperDataset.csv','a+', newline = '', encoding = 'UTF8') as f:\n",
    "    writer = csv.writer(f)\n",
    "    writer.writerow(data)"
   ]
  },
  {
   "cell_type": "code",
   "execution_count": null,
   "id": "2976940b",
   "metadata": {},
   "outputs": [],
   "source": [
    "\n",
    "def check_price():\n",
    "    #Website connection and data parsing\n",
    "    URL = 'https://www.amazon.in/DUDEME-Programmer-Coding-Developer-T-Shirt/dp/B08SFHKHV3/ref=sr_1_1?crid=1XY63H3SXDWF1&keywords=data%2Banalyst%2Btshirt&qid=1672333042&sprefix=data%2Banalyst%2Btshir%2Caps%2C378&sr=8-1'\n",
    "    headers = {\"User-Agent\": \"Mozilla/5.0 (Windows NT 10.0; Win64; x64) AppleWebKit/537.36 (KHTML, like Gecko) Chrome/108.0.0.0 Safari/537.36 Edg/108.0.1462.54\", \"Accept-Encoding\":\"gzip, deflate\",\"Accept\":\"text/html,application/xhtml+xml,application/xml;q=0.9,*/*;q=0.8\",\"DNT\":\"1\",\"Connection\":\"close\", \"Upgrade-Insecure-Requests\":\"1\"}\n",
    "    page = requests.get(URL,headers = headers)\n",
    "    \n",
    "    soup1 = BeautifulSoup(page.content,\"html.parser\")\n",
    "    soup2 = BeautifulSoup(soup1.prettify(),\"html.parser\")\n",
    "    \n",
    "    title = soup2.find(id = \"productTitle\").get_text() \n",
    "    price = soup2.find(id = \"corePrice_desktop\").get_text()\n",
    "    rating = soup2.find(id = \"acrPopover\").get_text()\n",
    "    \n",
    "    #Data Cleaning\n",
    "    title = title.strip()[:15]\n",
    "\n",
    "    s = \"\"\n",
    "    for i in range(len(price)):\n",
    "        if price[i].isdigit():\n",
    "            s+=price[i]\n",
    "\n",
    "    price = s.strip()[:3]\n",
    "    rating = rating.strip()[:3]\n",
    "    \n",
    "    #Date\n",
    "    import datetime\n",
    "    date = datetime.date.today()\n",
    "    \n",
    "    #CSV \n",
    "    import csv\n",
    "\n",
    "    header = ['Shirt','Price(.Rs)','Rating','Date']\n",
    "    data = [title,price,rating,date]\n",
    "\n",
    "    with open('AmazonWebScrapperDataset.csv','w', newline = '', encoding = 'UTF8') as f:\n",
    "        writer = csv.writer(f)\n",
    "        writer.writerow(header)\n",
    "        writer.writerow(data)\n",
    "        "
   ]
  },
  {
   "cell_type": "code",
   "execution_count": null,
   "id": "d1edbed9",
   "metadata": {},
   "outputs": [],
   "source": [
    "while (True):\n",
    "    check_price()\n",
    "    time.sleep(86400)"
   ]
  },
  {
   "cell_type": "code",
   "execution_count": null,
   "id": "cff95b27",
   "metadata": {},
   "outputs": [],
   "source": [
    "import pandas as pd\n",
    "df = pd.read_csv(r'C:\\Users\\ADMIN\\AmazonWebScrapperDataset.csv')\n",
    "print(df)"
   ]
  },
  {
   "cell_type": "code",
   "execution_count": null,
   "id": "b1455f49",
   "metadata": {},
   "outputs": [],
   "source": []
  }
 ],
 "metadata": {
  "kernelspec": {
   "display_name": "Python 3 (ipykernel)",
   "language": "python",
   "name": "python3"
  },
  "language_info": {
   "codemirror_mode": {
    "name": "ipython",
    "version": 3
   },
   "file_extension": ".py",
   "mimetype": "text/x-python",
   "name": "python",
   "nbconvert_exporter": "python",
   "pygments_lexer": "ipython3",
   "version": "3.9.12"
  }
 },
 "nbformat": 4,
 "nbformat_minor": 5
}
